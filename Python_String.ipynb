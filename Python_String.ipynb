{
  "nbformat": 4,
  "nbformat_minor": 0,
  "metadata": {
    "colab": {
      "name": "Python_String.ipynb",
      "provenance": []
    },
    "kernelspec": {
      "name": "python3",
      "display_name": "Python 3"
    }
  },
  "cells": [
    {
      "cell_type": "code",
      "metadata": {
        "id": "XO8i14hjTcZg",
        "colab_type": "code",
        "colab": {
          "base_uri": "https://localhost:8080/",
          "height": 35
        },
        "outputId": "6f28cf9c-2ee8-437f-fde1-11227ab83ec8"
      },
      "source": [
        "str='spark for big data'\n",
        "print(str[0:5])"
      ],
      "execution_count": 3,
      "outputs": [
        {
          "output_type": "stream",
          "text": [
            "spark\n"
          ],
          "name": "stdout"
        }
      ]
    },
    {
      "cell_type": "code",
      "metadata": {
        "id": "OiseOIp2URbb",
        "colab_type": "code",
        "colab": {
          "base_uri": "https://localhost:8080/",
          "height": 35
        },
        "outputId": "86cb7998-2b61-479d-a85f-1bfd65908b14"
      },
      "source": [
        "str='spark for big data'\n",
        "print(str[:-6])"
      ],
      "execution_count": 5,
      "outputs": [
        {
          "output_type": "stream",
          "text": [
            "spark for bi\n"
          ],
          "name": "stdout"
        }
      ]
    },
    {
      "cell_type": "code",
      "metadata": {
        "id": "d2Tat5wCUacH",
        "colab_type": "code",
        "colab": {
          "base_uri": "https://localhost:8080/",
          "height": 35
        },
        "outputId": "512d616f-2fc3-4fc4-d109-c6acc557b736"
      },
      "source": [
        "str='     spark for big data\\n'\n",
        "print(str.strip())"
      ],
      "execution_count": 6,
      "outputs": [
        {
          "output_type": "stream",
          "text": [
            "spark for big data\n"
          ],
          "name": "stdout"
        }
      ]
    },
    {
      "cell_type": "code",
      "metadata": {
        "id": "AoXaSw_4U1lX",
        "colab_type": "code",
        "colab": {
          "base_uri": "https://localhost:8080/",
          "height": 35
        },
        "outputId": "25204db3-aa62-4e72-afff-298064510fd1"
      },
      "source": [
        "str1 = 'spark for big data'\n",
        "str2 = 'abcdefghijklmnopqr'\n",
        "print([x for x in range(len(str2)) if str1.find(str2[x])>=0])"
      ],
      "execution_count": 7,
      "outputs": [
        {
          "output_type": "stream",
          "text": [
            "[0, 1, 3, 5, 6, 8, 10, 14, 15, 17]\n"
          ],
          "name": "stdout"
        }
      ]
    }
  ]
}