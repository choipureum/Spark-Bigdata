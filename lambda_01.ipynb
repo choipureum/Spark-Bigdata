{
  "nbformat": 4,
  "nbformat_minor": 0,
  "metadata": {
    "colab": {
      "name": "Python_note.ipynb",
      "provenance": []
    },
    "kernelspec": {
      "name": "python3",
      "display_name": "Python 3"
    }
  },
  "cells": [
    {
      "cell_type": "code",
      "metadata": {
        "id": "u5PhinV71zt9",
        "colab_type": "code",
        "colab": {
          "base_uri": "https://localhost:8080/",
          "height": 35
        },
        "outputId": "82086db7-9e4a-4aad-e177-9912c8804837"
      },
      "source": [
        "f= lambda x:(x,10*x)\n",
        "print(f(2))"
      ],
      "execution_count": 4,
      "outputs": [
        {
          "output_type": "stream",
          "text": [
            "(2, 20)\n"
          ],
          "name": "stdout"
        }
      ]
    },
    {
      "cell_type": "code",
      "metadata": {
        "id": "YNc_SAP32kMX",
        "colab_type": "code",
        "colab": {
          "base_uri": "https://localhost:8080/",
          "height": 35
        },
        "outputId": "5ec0ab21-f749-4b67-a057-a3b7f67273ae"
      },
      "source": [
        "l1= [1,5,3,2,3,5,6,8,3,5]\n",
        "l2= list(filter(lambda x:x>4,l1))\n",
        "print(l2)"
      ],
      "execution_count": 7,
      "outputs": [
        {
          "output_type": "stream",
          "text": [
            "[5, 5, 6, 8, 5]\n"
          ],
          "name": "stdout"
        }
      ]
    },
    {
      "cell_type": "code",
      "metadata": {
        "id": "GmxNBPv-3CAG",
        "colab_type": "code",
        "colab": {
          "base_uri": "https://localhost:8080/",
          "height": 35
        },
        "outputId": "ee7348ac-d526-44c9-b72c-ef5c1299e03d"
      },
      "source": [
        "vocab = 'hello world it\\'s spark tutorial'\n",
        "f= lambda s,v: [w for w in s.split() if w in v]\n",
        "print(f('say spark hello',vocab))"
      ],
      "execution_count": 10,
      "outputs": [
        {
          "output_type": "stream",
          "text": [
            "['spark', 'hello']\n"
          ],
          "name": "stdout"
        }
      ]
    }
  ]
}